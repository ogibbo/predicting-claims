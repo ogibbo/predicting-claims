{
 "cells": [
  {
   "cell_type": "code",
   "execution_count": null,
   "metadata": {},
   "outputs": [],
   "source": [
    "import pandas as pd\n",
    "import numpy as np\n",
    "import matplotlib.pyplot as plt\n",
    "from sklearn.model_selection import train_test_split, GridSearchCV\n",
    "from sklearn.linear_model import LinearRegression, Ridge, Lasso\n",
    "from sklearn.ensemble import RandomForestRegressor, GradientBoostingRegressor\n",
    "from sklearn.metrics import root_mean_squared_error\n",
    "\n",
    "from scripts.processing import clean_data, pre_process_data\n",
    "from scripts.pipeline import create_preprocessing_pipeline"
   ]
  },
  {
   "cell_type": "code",
   "execution_count": null,
   "metadata": {},
   "outputs": [],
   "source": [
    "raw_train_data = pd.read_csv('data/train.csv') "
   ]
  },
  {
   "cell_type": "code",
   "execution_count": null,
   "metadata": {},
   "outputs": [],
   "source": [
    "train_data = clean_data(raw_train_data)"
   ]
  },
  {
   "cell_type": "code",
   "execution_count": null,
   "metadata": {},
   "outputs": [],
   "source": [
    "train_data = pre_process_data(train_data)"
   ]
  },
  {
   "cell_type": "code",
   "execution_count": null,
   "metadata": {},
   "outputs": [],
   "source": [
    "# Passing through sklearn pipeline\n",
    "\n",
    "num_cols = train_data.select_dtypes(include=['float64', 'int64']).columns.drop('Incurred')\n",
    "ohe_cols = ['Notifier', 'Location_of_incident', 'Weather_conditions']\n",
    "\n",
    "pipeline = create_preprocessing_pipeline(num_cols, ohe_cols)\n",
    "\n",
    "X = train_data.drop(columns=['Incurred'])\n",
    "y = train_data['Incurred']\n",
    "\n",
    "X_preprocessed = pipeline.fit_transform(X)"
   ]
  },
  {
   "cell_type": "code",
   "execution_count": null,
   "metadata": {},
   "outputs": [],
   "source": [
    "X_train, X_test, y_train, y_test = train_test_split(X_preprocessed, y, test_size=0.2, random_state=42)"
   ]
  },
  {
   "cell_type": "code",
   "execution_count": null,
   "metadata": {},
   "outputs": [],
   "source": [
    "# Comparing different models\n",
    "\n",
    "models = [LinearRegression(), Ridge(), Lasso(), RandomForestRegressor(), GradientBoostingRegressor()]\n",
    "\n",
    "results = {}\n",
    "\n",
    "for model in models:\n",
    "\n",
    "    model.fit(X_train, y_train)\n",
    "    y_pred = model.predict(X_test)\n",
    "    results[model.__class__.__name__] = root_mean_squared_error(y_test, y_pred)\n",
    "\n",
    "results['Predicting Mean'] = root_mean_squared_error(y_test, [y_train.mean()]*len(y_test))\n",
    "results['Predicting Median'] = root_mean_squared_error(y_test, [y_train.median()]*len(y_test))\n",
    "\n",
    "pd.DataFrame.from_dict(results, orient='index', columns=['RMSE']).sort_values(by='RMSE')"
   ]
  },
  {
   "cell_type": "code",
   "execution_count": null,
   "metadata": {},
   "outputs": [],
   "source": [
    "# Tuning lasso\n",
    "\n",
    "param_grid = {'alpha': [0.1, 1, 10, 100]}\n",
    "\n",
    "lasso = Lasso()\n",
    "lasso_gs = GridSearchCV(lasso, param_grid, cv=5, scoring='neg_mean_squared_error', return_train_score=True)\n",
    "lasso_gs.fit(X_train, y_train)\n",
    "best_lasso = lasso_gs.best_estimator_\n",
    "y_pred = best_lasso.predict(X_test)\n",
    "root_mean_squared_error(y_test, y_pred)"
   ]
  },
  {
   "cell_type": "code",
   "execution_count": null,
   "metadata": {},
   "outputs": [],
   "source": [
    "# Plot y_test histogram vs y pred histogram\n",
    "plt.hist(y_test, bins=100, label='y_test')\n",
    "plt.hist(y_pred, bins=100, label='y_pred')\n",
    "plt.xlabel('Incurred')\n",
    "plt.ylabel('Count')\n",
    "plt.legend()"
   ]
  },
  {
   "cell_type": "code",
   "execution_count": null,
   "metadata": {},
   "outputs": [],
   "source": [
    "# Plot feature importance graph\n",
    "\n",
    "feature_names = X_preprocessed.columns\n",
    "coefficients = best_lasso.coef_\n",
    "\n",
    "coef_df = pd.DataFrame({'Feature': feature_names, 'Coefficient': coefficients})\n",
    "\n",
    "coef_df['AbsCoefficient'] = coef_df['Coefficient'].abs()\n",
    "coef_df = coef_df.sort_values(by='AbsCoefficient', ascending=False)\n",
    "\n",
    "# Plotting\n",
    "plt.figure(figsize=(10, 6))\n",
    "bars = plt.barh(coef_df['Feature'], coef_df['Coefficient'], color=np.where(coef_df['Coefficient'] > 0, 'green', 'red'))\n",
    "\n",
    "# Add labels and title\n",
    "plt.ylabel('Feature')\n",
    "plt.xlabel('Coefficient')\n",
    "plt.title('Feature Importance in Lasso Regression')\n",
    "plt.tight_layout()"
   ]
  }
 ],
 "metadata": {
  "kernelspec": {
   "display_name": "claim_env",
   "language": "python",
   "name": "python3"
  },
  "language_info": {
   "codemirror_mode": {
    "name": "ipython",
    "version": 3
   },
   "file_extension": ".py",
   "mimetype": "text/x-python",
   "name": "python",
   "nbconvert_exporter": "python",
   "pygments_lexer": "ipython3",
   "version": "3.1.undefined"
  }
 },
 "nbformat": 4,
 "nbformat_minor": 2
}

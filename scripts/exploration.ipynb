{
 "cells": [
  {
   "cell_type": "code",
   "execution_count": null,
   "metadata": {},
   "outputs": [],
   "source": [
    "import pandas as pd\n",
    "import seaborn as sns\n",
    "import matplotlib.pyplot as plt\n",
    "\n",
    "# import fit transform\n",
    "from sklearn.model_selection import train_test_split\n",
    "\n",
    "from scripts.processing import clean_data, pre_process_data\n",
    "from scripts.tp_col_groups import TP_REGION_COLS, TP_INJURY_COLS, TP_TYPE_COLS\n",
    "\n",
    "pd.set_option('display.max_columns', None)"
   ]
  },
  {
   "cell_type": "code",
   "execution_count": null,
   "metadata": {},
   "outputs": [],
   "source": [
    "raw_train_data = pd.read_csv('data/train.csv')\n",
    "train_data = clean_data(raw_train_data)\n",
    "\n",
    "train_data = train_data[(train_data['Incurred'] - train_data['Incurred'].mean()) / train_data['Incurred'].std() < 2]"
   ]
  },
  {
   "cell_type": "code",
   "execution_count": null,
   "metadata": {},
   "outputs": [],
   "source": [
    "# Exploration plots\n",
    "\n",
    "\n",
    "# train_data.plot.scatter(x='Incurred', y='Incurred', alpha=0.5) \n",
    "\n",
    "# sns.catplot(x='Weather_conditions', y='Incurred', data=train_data, kind='box')\n",
    "\n",
    "correlation_matrix = train_data.corr(numeric_only=True)\n",
    "plt.figure(figsize=(20, 12))\n",
    "sns.heatmap(correlation_matrix, annot=False, cmap='coolwarm', fmt=\".2f\")\n",
    "plt.show()"
   ]
  },
  {
   "cell_type": "code",
   "execution_count": null,
   "metadata": {},
   "outputs": [],
   "source": [
    "train_data.columns"
   ]
  },
  {
   "cell_type": "code",
   "execution_count": null,
   "metadata": {},
   "outputs": [],
   "source": [
    "# get total column by adding all values from the TP_TYPE list\n",
    "train_data['Total'] = train_data[TP_REGION_COLS].sum(axis=1)"
   ]
  },
  {
   "cell_type": "code",
   "execution_count": null,
   "metadata": {},
   "outputs": [],
   "source": [
    "train_data.plot.scatter(x='Total', y='Incurred', alpha=0.5)\n",
    "train_data.groupby('Total')['Incurred'].mean().plot()"
   ]
  },
  {
   "cell_type": "code",
   "execution_count": null,
   "metadata": {},
   "outputs": [],
   "source": [
    "for col in TP_TYPE_COLS:\n",
    "    train_data.plot.scatter(x=col, y='Incurred', alpha=0.5)\n",
    "    train_data.groupby(col)['Incurred'].mean().plot()"
   ]
  },
  {
   "cell_type": "code",
   "execution_count": null,
   "metadata": {},
   "outputs": [],
   "source": [
    "for col in TP_REGION_COLS:\n",
    "    train_data.plot.scatter(x=col, y='Incurred', alpha=0.5)\n",
    "    train_data.groupby(col)['Incurred'].mean().plot()"
   ]
  },
  {
   "cell_type": "code",
   "execution_count": null,
   "metadata": {},
   "outputs": [],
   "source": [
    "for col in TP_INJURY_COLS:\n",
    "    train_data.plot.scatter(x=col, y='Incurred', alpha=0.5)\n",
    "    train_data.groupby(col)['Incurred'].mean().plot()"
   ]
  },
  {
   "cell_type": "code",
   "execution_count": null,
   "metadata": {},
   "outputs": [],
   "source": [
    "train_data.plot.scatter(x='Notification_period', y='Incurred', alpha=0.5)"
   ]
  },
  {
   "cell_type": "code",
   "execution_count": null,
   "metadata": {},
   "outputs": [],
   "source": [
    "sns.catplot(x='Location_of_incident', y='Incurred', data=train_data, kind='box')"
   ]
  },
  {
   "cell_type": "code",
   "execution_count": null,
   "metadata": {},
   "outputs": [],
   "source": [
    "sns.catplot(x='Weather_conditions', y='Incurred', data=train_data, kind='box')"
   ]
  },
  {
   "cell_type": "code",
   "execution_count": null,
   "metadata": {},
   "outputs": [],
   "source": [
    "# NEW COLUMN CALLED IS_NIGHT\n",
    "# 1 if Time_hour is greater than or equal to 20 or less than or equal to 5 otherwiser 0\n",
    "train_data['is_night'] = train_data['Time_hour'].apply(lambda x: 1 if x >= 20 or x <= 5 else 0)"
   ]
  },
  {
   "cell_type": "code",
   "execution_count": null,
   "metadata": {},
   "outputs": [],
   "source": [
    "train_data"
   ]
  },
  {
   "cell_type": "code",
   "execution_count": null,
   "metadata": {},
   "outputs": [],
   "source": [
    "sns.catplot(x='is_night', y='Incurred', data=train_data, kind='box')"
   ]
  },
  {
   "cell_type": "code",
   "execution_count": null,
   "metadata": {},
   "outputs": [],
   "source": [
    "sns.catplot(x='Incident_details_present', y='Incurred', data=train_data, kind='box')"
   ]
  },
  {
   "cell_type": "code",
   "execution_count": null,
   "metadata": {},
   "outputs": [],
   "source": []
  },
  {
   "cell_type": "code",
   "execution_count": null,
   "metadata": {},
   "outputs": [],
   "source": [
    "train_data.plot.scatter(x='days_since_loss', y='Incurred', alpha=0.5)\n",
    "\n",
    "# Print correlation between Incurred and days_since_loss\n",
    "print(train_data['Incurred'].corr(train_data['days_since_loss']))"
   ]
  },
  {
   "cell_type": "code",
   "execution_count": null,
   "metadata": {},
   "outputs": [],
   "source": [
    "train_data.plot.scatter(x='TP_region_northw', y='Incurred', alpha=0.5)\n",
    "train_data.groupby('TP_region_northw')['Incurred'].mean().plot()"
   ]
  },
  {
   "cell_type": "code",
   "execution_count": null,
   "metadata": {},
   "outputs": [],
   "source": [
    "train_data.plot.scatter(x='TP_injury_whiplash', y='Incurred', alpha=0.5)\n",
    "train_data.groupby('TP_injury_whiplash')['Incurred'].mean().plot()"
   ]
  },
  {
   "cell_type": "code",
   "execution_count": null,
   "metadata": {},
   "outputs": [],
   "source": [
    "train_data.plot.scatter(x='TP_injury_fatality', y='Incurred', alpha=0.5)\n",
    "train_data.groupby('TP_injury_fatality')['Incurred'].mean().plot()"
   ]
  },
  {
   "cell_type": "code",
   "execution_count": null,
   "metadata": {},
   "outputs": [],
   "source": [
    "train_data.plot.scatter(x='Time_hour', y='Incurred', alpha=0.5)\n",
    "\n",
    "# Plot median Incurred per hour\n",
    "train_data.groupby('Time_hour')['Incurred'].mean().plot()"
   ]
  },
  {
   "cell_type": "code",
   "execution_count": null,
   "metadata": {},
   "outputs": [],
   "source": [
    "train_data.groupby('Time_hour')['Incurred'].mean()"
   ]
  },
  {
   "cell_type": "code",
   "execution_count": null,
   "metadata": {},
   "outputs": [],
   "source": []
  }
 ],
 "metadata": {
  "kernelspec": {
   "display_name": "claim_env",
   "language": "python",
   "name": "python3"
  },
  "language_info": {
   "codemirror_mode": {
    "name": "ipython",
    "version": 3
   },
   "file_extension": ".py",
   "mimetype": "text/x-python",
   "name": "python",
   "nbconvert_exporter": "python",
   "pygments_lexer": "ipython3",
   "version": "3.12.3"
  }
 },
 "nbformat": 4,
 "nbformat_minor": 2
}
